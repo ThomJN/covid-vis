{
 "cells": [
  {
   "cell_type": "code",
   "execution_count": null,
   "metadata": {},
   "outputs": [],
   "source": [
    "import numpy as np\n",
    "import matplotlib.pyplot as plt\n",
    "import panel as pn\n",
    "import altair as alt\n",
    "import pandas as pd\n",
    "from vega_datasets import data\n",
    "import datetime as dt\n",
    "from altair import datum"
   ]
  },
  {
   "cell_type": "code",
   "execution_count": null,
   "metadata": {},
   "outputs": [],
   "source": [
    "alt.renderers.enable('default')\n",
    "pn.extension('vega')"
   ]
  },
  {
   "cell_type": "code",
   "execution_count": null,
   "metadata": {},
   "outputs": [],
   "source": [
    "covid_data_scandinavia = pd.read_csv(\"data/covid_data_scandinavia.csv\")\n",
    "covid_data_scandinavia['Date'] = pd.to_datetime(covid_data_scandinavia.Date)\n",
    "covid_data_scandinavia"
   ]
  },
  {
   "cell_type": "code",
   "execution_count": null,
   "metadata": {},
   "outputs": [],
   "source": [
    "long_form_scandinavia = pd.read_csv('long_form_scandinavia.csv')\n",
    "long_form_scandinavia['Date'] = pd.to_datetime(long_form_scandinavia.Date)\n",
    "long_form_scandinavia"
   ]
  },
  {
   "cell_type": "code",
   "execution_count": null,
   "metadata": {},
   "outputs": [],
   "source": [
    "alt.Chart(long_form_scandinavia).mark_line().encode(\n",
    "    x='Date',\n",
    "    y='Cases',\n",
    "    color='Country')"
   ]
  },
  {
   "cell_type": "code",
   "execution_count": null,
   "metadata": {},
   "outputs": [],
   "source": [
    "# Create tickers for selection options\n",
    "tickers = ['Denmark', 'Finland', 'Norway', 'Sweden']\n",
    "ticker = pn.widgets.Select(name='Country', options=tickers)\n",
    "\n",
    "# Create range slider for date ranges\n",
    "date_range_slider = pn.widgets.DateRangeSlider(name='Date Range', \n",
    "                                               start=long_form_scandinavia['Date'].min(),\n",
    "                                               end=long_form_scandinavia['Date'].max(),\n",
    "                                               value=(long_form_scandinavia['Date'].min(), long_form_scandinavia['Date'].max())\n",
    "                                              )\n",
    "\n",
    "title = '### Confirmed Cases'\n",
    "subtitle = 'This dashboard allows you to select a country and date range to see total confirmed cases.'\n",
    "\n",
    "@pn.depends(ticker.param.value, date_range_slider.param.value)\n",
    "def get_plot(ticker, date_range):\n",
    "    # Load data\n",
    "    df = long_form_scandinavia \n",
    "    df['Date'] = pd.to_datetime(df['Date'])\n",
    "    \n",
    "    # Create date filter using values from range slider\n",
    "    # Store first and last date range slider\n",
    "    start_date = date_range_slider.value[0]\n",
    "    end_date = date_range_slider.value[1]\n",
    "    \n",
    "    # Create filter mask for the dataframe\n",
    "    mask = (df['Date'] > start_date) & (df['Date'] <= end_date)\n",
    "    df = df.loc[mask]\n",
    "    \n",
    "    # Create chart object\n",
    "    chart = alt.Chart(df).mark_area(color=\"#0c1944\", opacity=0.8).encode(x='Date', y='Cases', tooltip=alt.Tooltip(['Date','Cases'])).transform_filter(\n",
    "        (datum.symbol == ticker)\n",
    "    )\n",
    "    \n",
    "    return chart\n",
    "\n",
    "dashboard = pn.Row(\n",
    "    pn.Column(title, subtitle, ticker, date_range_slider),\n",
    "    get_plot\n",
    ")\n",
    "\n",
    "dashboard.servable()"
   ]
  },
  {
   "cell_type": "code",
   "execution_count": null,
   "metadata": {},
   "outputs": [],
   "source": [
    "# set a title for your dashboard\n",
    "title = '## Stock Price Dashboard'\n",
    "\n",
    "subtitle = 'This dashboard allows you to select a company and date range to see stock prices.'\n",
    "\n",
    "# create list of company names (tickers)\n",
    "tickers = ['AAPL', 'GOOG', 'IBM', 'MSFT']\n",
    "\n",
    "# this creates the dropdown widget\n",
    "ticker = pn.widgets.Select(name='Company', options=tickers)\n",
    "\n",
    "# this creates the date range slider\n",
    "date_range_slider = pn.widgets.DateRangeSlider(\n",
    "    name='Date Range Slider',\n",
    "    start=dt.datetime(2001, 1, 1), end=dt.datetime(2010, 1, 1),\n",
    "    value=(dt.datetime(2001, 1, 1), dt.datetime(2010, 1, 1))\n",
    ")\n",
    "\n",
    "# tell Panel what your plot \"depends\" on. \n",
    "# This defines what should trigger a change in the chart.\n",
    "# both values in depends() will be used in our below Altair chart as filters\n",
    "@pn.depends(ticker.param.value, date_range_slider.param.value)\n",
    "def get_plot(ticker, date_range): # start function\n",
    "\n",
    "    # Load and format the data\n",
    "    df = source # define df\n",
    "    df['date'] = pd.to_datetime(df['date']) # format date as datetime\n",
    "    \n",
    "    # create a date filter that uses values from the date range slider\n",
    "    start_date = date_range_slider.value[0] # store the first date range slider value in a var\n",
    "    end_date = date_range_slider.value[1] # store the end date in a var\n",
    "    mask = (df['date'] > start_date) & (df['date'] <= end_date) # create filter mask for the dataframe\n",
    "    df = df.loc[mask] # filter the dataframe\n",
    "    \n",
    "    # create the Altair chart object\n",
    "    chart = alt.Chart(df).mark_area(color=\"#0c1944\", opacity=0.8).encode(x='date', y='price', tooltip=alt.Tooltip(['date','price'])).transform_filter(\n",
    "        (datum.symbol == ticker) # this ties in the filter from the dropdown selection\n",
    "    )\n",
    "    \n",
    "    return chart\n",
    "\n",
    "# create the Panel object, passing in all smaller objects\n",
    "\n",
    "dashboard = pn.Row(\n",
    "    pn.Column(title, subtitle, ticker, date_range_slider),\n",
    "    get_plot # draw chart function!\n",
    ")\n",
    "\n",
    "dashboard.servable()"
   ]
  }
 ],
 "metadata": {
  "kernelspec": {
   "display_name": "Python 3",
   "language": "python",
   "name": "python3"
  },
  "language_info": {
   "codemirror_mode": {
    "name": "ipython",
    "version": 3
   },
   "file_extension": ".py",
   "mimetype": "text/x-python",
   "name": "python",
   "nbconvert_exporter": "python",
   "pygments_lexer": "ipython3",
   "version": "3.7.6"
  }
 },
 "nbformat": 4,
 "nbformat_minor": 4
}
