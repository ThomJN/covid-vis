{
 "cells": [
  {
   "cell_type": "code",
   "execution_count": null,
   "metadata": {},
   "outputs": [],
   "source": [
    "import pandas as pd\n",
    "import datetime as dt\n",
    "import pycurl\n",
    "from io import BytesIO"
   ]
  },
  {
   "cell_type": "markdown",
   "metadata": {},
   "source": [
    "### Load Data ###"
   ]
  },
  {
   "cell_type": "code",
   "execution_count": null,
   "metadata": {},
   "outputs": [],
   "source": [
    "with open('data/source_data.csv', 'wb') as f:\n",
    "    curl = pycurl.Curl()\n",
    "    curl.setopt(curl.URL, \"https://raw.githubusercontent.com/CSSEGISandData/COVID-19/master/csse_covid_19_data/csse_covid_19_time_series/time_series_covid19_confirmed_global.csv\")\n",
    "    curl.setopt(curl.WRITEDATA, f)\n",
    "    curl.perform()\n",
    "    curl.close()\n",
    "\n",
    "covid_data = pd.read_csv(\"data/source_data.csv\").rename(columns={'Country/Region': 'Country'})\n",
    "covid_data = covid_data.drop(columns=['Province/State', 'Lat', 'Long'])\n",
    "covid_data.head()"
   ]
  },
  {
   "cell_type": "markdown",
   "metadata": {},
   "source": [
    "### Scandinavia ###"
   ]
  },
  {
   "cell_type": "code",
   "execution_count": null,
   "metadata": {},
   "outputs": [],
   "source": [
    "covid_data_scandinavia = covid_data.query('Country == \"Denmark\" | Country == \"Sweden\" | Country == \"Norway\" | Country == \"Finland\"').drop([92, 93])\n",
    "covid_data_scandinavia.to_csv('data/covid_data_scandinavia.csv')\n",
    "covid_data_scandinavia.head()"
   ]
  },
  {
   "cell_type": "markdown",
   "metadata": {},
   "source": [
    "### Reshape Data"
   ]
  },
  {
   "cell_type": "code",
   "execution_count": null,
   "metadata": {},
   "outputs": [],
   "source": [
    "# Melt dataframe and set index\n",
    "def reshape_data(raw_df):\n",
    "    cleaned_df = raw_df.melt(id_vars=['Country'], value_name='Cases', var_name='Date')\n",
    "    cleaned_df = cleaned_df.set_index(['Country', 'Date'])\n",
    "    return cleaned_df\n",
    "\n",
    "# Clean dataset(s)\n",
    "covid_data_scandinavia_reshaped = reshape_data(covid_data_scandinavia)\n",
    "covid_data_scandinavia_reshaped.to_csv('data/covid_data_scandinavia_reshaped.csv')\n",
    "covid_data_scandinavia_reshaped.head()"
   ]
  },
  {
   "cell_type": "markdown",
   "metadata": {},
   "source": [
    "### Calculate and Merge Data"
   ]
  },
  {
   "cell_type": "code",
   "execution_count": null,
   "metadata": {},
   "outputs": [],
   "source": [
    "def country_data(cleaned_df, old_name, new_name):\n",
    "    country_df = cleaned_df.groupby(['Country', 'Date'])['Cases'].sum().reset_index()\n",
    "    country_df = country_df.set_index(['Country', 'Date'])\n",
    "    country_df.index = country_df.index.set_levels([country_df.index.levels[0], pd.to_datetime(country_df.index.levels[1])])\n",
    "    country_df = country_df.sort_values(['Country', 'Date'], ascending=True)\n",
    "    country_df = country_df.rename(columns={old_name:new_name})\n",
    "    return country_df\n",
    "    \n",
    "cases_country = country_data(covid_data_scandinavia_reshaped, 'Cases', 'Total Confirmed Cases')    \n",
    "\n",
    "def daily_data(country_df, old_name, new_name):\n",
    "    country_df_daily = country_df.groupby(level=0).diff().fillna(0)\n",
    "    country_df_daily = country_df_daily.rename(columns={old_name:new_name})\n",
    "    return country_df_daily\n",
    "\n",
    "new_cases_country = daily_data(cases_country, 'Total Confirmed Cases', 'Daily New Cases')\n",
    "\n",
    "merged_country_data = pd.merge(cases_country, new_cases_country, how='left', left_index=True, right_index=True)\n",
    "merged_country_data\n",
    "\n",
    "merged_country_data.to_csv('data/merged_data_scandinavia.csv')"
   ]
  },
  {
   "cell_type": "markdown",
   "metadata": {},
   "source": [
    "### Long Form ###\n",
    "Fits best with Altair charts."
   ]
  },
  {
   "cell_type": "code",
   "execution_count": null,
   "metadata": {},
   "outputs": [],
   "source": [
    "dates = covid_data_scandinavia.columns.values.tolist()\n",
    "dates.remove(dates[0])\n",
    "\n",
    "long_form = covid_data_scandinavia.melt(id_vars=['Country'], value_vars=dates, var_name='Date', value_name='Cases')\n",
    "long_form.to_csv('long_form_scandinavia.csv', index=False)"
   ]
  },
  {
   "cell_type": "code",
   "execution_count": null,
   "metadata": {},
   "outputs": [],
   "source": [
    "dates = covid_data_scandinavia.columns.values.tolist()\n",
    "dates.remove(dates[0])\n",
    "denmark = covid_data_scandinavia.loc[94]\n",
    "denmark = denmark.drop(denmark.index[0])\n",
    "finland = covid_data_scandinavia.loc[106]\n",
    "finland = finland.drop(finland.index[0])\n",
    "norway = covid_data_scandinavia.loc[175]\n",
    "norway = norway.drop(norway.index[0])\n",
    "sweden = covid_data_scandinavia.loc[205]\n",
    "sweden = sweden.drop(sweden.index[0])\n",
    "data = {'Date': dates,\n",
    "        'Denmark': denmark,\n",
    "        'Finland': finland,\n",
    "        'Norway': norway,\n",
    "        'Sweden': sweden}\n",
    "\n",
    "covid_data_scandinavia_reshaped = pd.DataFrame(data, columns=['Date', 'Denmark', 'Finland', 'Norway', 'Sweden']).set_index('Date')"
   ]
  },
  {
   "cell_type": "code",
   "execution_count": null,
   "metadata": {},
   "outputs": [],
   "source": [
    "covid_data_scandinavia_reshaped.to_csv('data/covid_data_scandinavia.csv')"
   ]
  },
  {
   "cell_type": "markdown",
   "metadata": {},
   "source": [
    "### Denmark ###"
   ]
  },
  {
   "cell_type": "code",
   "execution_count": null,
   "metadata": {},
   "outputs": [],
   "source": [
    "covid_data_denmark = covid_data.query('Country == \"Denmark\"').drop([92, 93])\n",
    "covid_data_denmark"
   ]
  },
  {
   "cell_type": "code",
   "execution_count": null,
   "metadata": {},
   "outputs": [],
   "source": [
    "dates = covid_data_denmark.columns.values.tolist()\n",
    "dates.remove(dates[0])\n",
    "denmark = covid_data_denmark.loc[94]\n",
    "denmark = denmark.drop(denmark.index[0])\n",
    "data = {'Date': dates,\n",
    "        'Denmark': denmark}\n",
    "\n",
    "covid_data_denmark_reshaped = pd.DataFrame(data, columns=['Date', 'Denmark']).set_index('Date')\n",
    "covid_data_denmark_reshaped.to_csv('denmark.csv')"
   ]
  }
 ],
 "metadata": {
  "kernelspec": {
   "display_name": "Python 3",
   "language": "python",
   "name": "python3"
  },
  "language_info": {
   "codemirror_mode": {
    "name": "ipython",
    "version": 3
   },
   "file_extension": ".py",
   "mimetype": "text/x-python",
   "name": "python",
   "nbconvert_exporter": "python",
   "pygments_lexer": "ipython3",
   "version": "3.7.6"
  }
 },
 "nbformat": 4,
 "nbformat_minor": 4
}
